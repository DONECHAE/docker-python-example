{
 "cells": [
  {
   "cell_type": "code",
   "execution_count": null,
   "metadata": {
    "vscode": {
     "languageId": "plaintext"
    }
   },
   "outputs": [],
   "source": [
    "## requirment.txt 에 버전이 중요하면 라이브러리 == 버전 입력 해서 하기도 함\n",
    "## 또한 pip freeze > requirements.txt 현재 시스템에 설치된 모든 패키지와 버전을 저장을 통해\n",
    "## 좀 더 간단하게 할 수 있음"
   ]
  },
  {
   "cell_type": "code",
   "execution_count": null,
   "metadata": {
    "vscode": {
     "languageId": "plaintext"
    }
   },
   "outputs": [],
   "source": [
    "import pandas as pd\n",
    "import numpy as np\n",
    "from sklearn.datasets import load_iris\n",
    "from sklearn.model_selection import train_test_split\n",
    "from sklearn.tree import DecisionTreeClassifier\n",
    "from sklearn.metrics import accuracy_score\n",
    "\n",
    "# 1. 데이터 로드 (Iris 데이터셋 사용)\n",
    "iris = load_iris()\n",
    "X = iris.data\n",
    "y = iris.target\n",
    "\n",
    "# 2. 데이터 분할 (훈련 80%, 테스트 20%)\n",
    "X_train, X_test, y_train, y_test = train_test_split(X, y, test_size=0.2, random_state=42)\n",
    "\n",
    "# 3. 결정 트리 모델 학습\n",
    "clf = DecisionTreeClassifier()\n",
    "clf.fit(X_train, y_train)\n",
    "\n",
    "# 4. 예측 및 정확도 평가\n",
    "y_pred = clf.predict(X_test)\n",
    "accuracy = accuracy_score(y_test, y_pred)\n",
    "\n",
    "# 5. 결과 출력\n",
    "print(\"🌱 결정 트리 모델을 사용한 분류\")\n",
    "print(f\"✅ 테스트 데이터 정확도: {accuracy:.2%}\")\n",
    "\n",
    "# 6. CSV 파일로 저장 (예측 결과)\n",
    "df_results = pd.DataFrame({\"Actual\": y_test, \"Predicted\": y_pred})\n",
    "df_results.to_csv(\"prediction_results.csv\", index=False)\n",
    "print(\"\\n✅ 예측 결과가 'prediction_results.csv' 파일로 저장되었습니다.\")"
   ]
  }
 ],
 "metadata": {
  "language_info": {
   "name": "python"
  }
 },
 "nbformat": 4,
 "nbformat_minor": 2
}
